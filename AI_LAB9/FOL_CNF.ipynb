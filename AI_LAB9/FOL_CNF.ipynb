{
 "cells": [
  {
   "cell_type": "code",
   "execution_count": 1,
   "metadata": {},
   "outputs": [],
   "source": [
    "import re\n",
    "\n",
    "def getAttributes(string):\n",
    "    expr = '\\([^)]+\\)'\n",
    "    matches = re.findall(expr, string)\n",
    "    return [m for m in str(matches) if m.isalpha()]\n",
    "\n",
    "def getPredicates(string):\n",
    "    expr = '[a-z~]+\\([A-Za-z,]+\\)'\n",
    "    return re.findall(expr, string)\n",
    "\n",
    "def DeMorgan(sentence):\n",
    "    string = ''.join(list(sentence).copy())\n",
    "    string = string.replace('~~','')\n",
    "    flag = '[' in string\n",
    "    string = string.replace('~[','')\n",
    "    string = string.strip(']')\n",
    "    \n",
    "    for predicate in getPredicates(string):\n",
    "        string = string.replace(predicate, f'~{predicate}')\n",
    "    s = list(string)\n",
    "    for i, c in enumerate(string):\n",
    "        if c == '|':\n",
    "            s[i] = '&'\n",
    "        elif c == '&':\n",
    "            s[i] = '|'\n",
    "    string = ''.join(s)    \n",
    "    string = string.replace('~~','')\n",
    "    return f'[{string}]' if flag else string\n",
    "\n",
    "def Skolemization(sentence):\n",
    "    SKOLEM_CONSTANTS = [f'{chr(c)}' for c in range(ord('A'), ord('Z')+1)]\n",
    "    statement = ''.join(list(sentence).copy())\n",
    "    matches = re.findall('[∀∃].', statement)\n",
    "    for match in matches[::-1]:\n",
    "        statement = statement.replace(match, '')\n",
    "        statements = re.findall('\\[\\[[^]]+\\]]', statement)\n",
    "        for s in statements:\n",
    "            statement = statement.replace(s, s[1:-1])\n",
    "        for predicate in getPredicates(statement):\n",
    "            attributes = getAttributes(predicate)\n",
    "            if ''.join(attributes).islower():\n",
    "                statement = statement.replace(match[1],SKOLEM_CONSTANTS.pop(0))\n",
    "            else:\n",
    "                aU = [a for a in attributes if not a.islower()][0]\n",
    "                statement = statement.replace(aU, f'{SKOLEM_CONSTANTS.pop(0)}({match[1]})')\n",
    "    return statement"
   ]
  },
  {
   "cell_type": "code",
   "execution_count": 2,
   "metadata": {},
   "outputs": [],
   "source": [
    "def fol_to_cnf(fol):\n",
    "    \n",
    "    statement = fol.replace(\"<=>\", \"_\")\n",
    "    while '_' in statement:\n",
    "        i = statement.index('_')\n",
    "        new_statement = '[' + statement[:i] + '=>' + statement[i+1:] + ']&['+ statement[i+1:] + '=>' + statement[:i] + ']'\n",
    "        statement = new_statement\n",
    "    statement = statement.replace(\"=>\", \"-\")\n",
    "    expr = '\\[([^]]+)\\]'\n",
    "    statements = re.findall(expr, statement)\n",
    "    \n",
    "    for i, s in enumerate(statements):\n",
    "        if '[' in s and ']' not in s:\n",
    "            statements[i] += ']'\n",
    "            \n",
    "    for s in statements:\n",
    "        statement = statement.replace(s, fol_to_cnf(s))\n",
    "        \n",
    "    while '-' in statement:\n",
    "        i = statement.index('-')\n",
    "        br = statement.index('[') if '[' in statement else 0\n",
    "        new_statement = '~' + statement[br:i] + '|' + statement[i+1:]\n",
    "        statement = statement[:br] + new_statement if br > 0 else new_statement\n",
    "        \n",
    "    while '~∀' in statement:\n",
    "        i = statement.index('~∀')\n",
    "        statement = list(statement)\n",
    "        statement[i], statement[i+1], statement[i+2] = '∃', statement[i+2], '~'\n",
    "        statement = ''.join(statement)\n",
    "        \n",
    "    while '~∃' in statement:\n",
    "        i = statement.index('~∃')\n",
    "        s = list(statement)\n",
    "        s[i], s[i+1], s[i+2] = '∀', s[i+2], '~'\n",
    "        statement = ''.join(s)\n",
    "    statement = statement.replace('~[∀','[~∀')\n",
    "    statement = statement.replace('~[∃','[~∃')\n",
    "    expr = '(~[∀|∃].)'\n",
    "    statements = re.findall(expr, statement)\n",
    "    \n",
    "    for s in statements:\n",
    "        statement = statement.replace(s, fol_to_cnf(s))\n",
    "    expr = '~\\[[^]]+\\]'\n",
    "    statements = re.findall(expr, statement)\n",
    "    \n",
    "    for s in statements:\n",
    "        statement = statement.replace(s, DeMorgan(s))\n",
    "    return statement"
   ]
  },
  {
   "cell_type": "code",
   "execution_count": 3,
   "metadata": {},
   "outputs": [
    {
     "name": "stdout",
     "output_type": "stream",
     "text": [
      "[~animal(y)|loves(x,y)]&[~loves(x,y)|animal(y)]\n"
     ]
    }
   ],
   "source": [
    "#Test case 1\n",
    "print(Skolemization(fol_to_cnf(\"animal(y)<=>loves(x,y)\")))"
   ]
  },
  {
   "cell_type": "code",
   "execution_count": 4,
   "metadata": {},
   "outputs": [
    {
     "name": "stdout",
     "output_type": "stream",
     "text": [
      "[animal(G(x))&~loves(x,G(x))]|[loves(F(y),x)]\n"
     ]
    }
   ],
   "source": [
    "#Test case 2\n",
    "print(Skolemization(fol_to_cnf(\"∀x[∀y[animal(y)=>loves(x,y)]]=>[∃z[loves(z,x)]]\")))"
   ]
  },
  {
   "cell_type": "code",
   "execution_count": 6,
   "metadata": {},
   "outputs": [],
   "source": [
    "def main():\n",
    "    fol=input(\"Enter the FOL :\")\n",
    "    print(Skolemization(fol_to_cnf(fol)))"
   ]
  },
  {
   "cell_type": "code",
   "execution_count": 7,
   "metadata": {},
   "outputs": [
    {
     "name": "stdout",
     "output_type": "stream",
     "text": [
      "Enter the FOL :∀x[∃z[loves(x,z)]]\n",
      "[loves(x,B(x))]\n"
     ]
    }
   ],
   "source": [
    "#Test case 3\n",
    "main()"
   ]
  },
  {
   "cell_type": "code",
   "execution_count": 8,
   "metadata": {},
   "outputs": [
    {
     "name": "stdout",
     "output_type": "stream",
     "text": [
      "Enter the FOL :∀x food(x) => likes(John, x)\n",
      "~ food(A) | likes(John, A)\n"
     ]
    }
   ],
   "source": [
    "#Test case 4\n",
    "main()"
   ]
  },
  {
   "cell_type": "code",
   "execution_count": 9,
   "metadata": {},
   "outputs": [
    {
     "name": "stdout",
     "output_type": "stream",
     "text": [
      "Enter the FOL :[american(x)&weapon(y)&sells(x,y,z)&hostile(z)]=>criminal(x)\n",
      "[~american(x)|~weapon(y)|~sells(x,y,z)|~hostile(z)]|criminal(x)\n"
     ]
    }
   ],
   "source": [
    "#Test case 5\n",
    "main()"
   ]
  },
  {
   "cell_type": "code",
   "execution_count": null,
   "metadata": {},
   "outputs": [],
   "source": []
  }
 ],
 "metadata": {
  "kernelspec": {
   "display_name": "Python 3",
   "language": "python",
   "name": "python3"
  },
  "language_info": {
   "codemirror_mode": {
    "name": "ipython",
    "version": 3
   },
   "file_extension": ".py",
   "mimetype": "text/x-python",
   "name": "python",
   "nbconvert_exporter": "python",
   "pygments_lexer": "ipython3",
   "version": "3.8.3"
  }
 },
 "nbformat": 4,
 "nbformat_minor": 4
}
