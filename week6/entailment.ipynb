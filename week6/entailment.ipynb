{
 "cells": [
  {
   "cell_type": "code",
   "execution_count": 1,
   "metadata": {},
   "outputs": [],
   "source": [
    "combinations=[(True,True, True),(True,True,False),(True,False,True),(True,False, False),(False,True, True),(False,True, False),(False, False,True),(False,False, False)]#expand this set for more variables\n",
    "variable={'P':0,'Q':1, 'R':2}#expand this set matching combinations indices for variables\n",
    "#set of rules\n",
    "kb=''#should be a cnf \n",
    "q=''#should be a cnf\n",
    "priority={'~':3,'v':1,'^':2}\n"
   ]
  },
  {
   "cell_type": "code",
   "execution_count": 2,
   "metadata": {},
   "outputs": [],
   "source": [
    "def input_rules():\n",
    "    global kb,q\n",
    "    kb=input(\"Enter rule : \")\n",
    "    q=input(\"Enter the Query : \")"
   ]
  },
  {
   "cell_type": "code",
   "execution_count": 3,
   "metadata": {},
   "outputs": [],
   "source": [
    "def entailment():\n",
    "    global kb,q\n",
    "    print(\"*\"*10+\"Truth Table Reference\"+\"*\"*10)\n",
    "    print(\"P  \",\"  Q  \",\"   R   \",\"  KB  \",' Alpha')\n",
    "    print(\"*\"*20)\n",
    "    for comb in combinations:\n",
    "        s=evaluatePostfix(toPostfix(kb),comb)\n",
    "        f=evaluatePostfix(toPostfix(q),comb)\n",
    "        a,b,c=comb\n",
    "        print(a,b,c,s,f)\n",
    "        print(\"-\"*10)\n",
    "        if s and not f:\n",
    "            return False\n",
    "    return True"
   ]
  },
  {
   "cell_type": "code",
   "execution_count": 4,
   "metadata": {},
   "outputs": [],
   "source": [
    "def isOperand(c):\n",
    "    return c.isalpha() and c!='v'\n",
    "def isLeftParenthesis(c):\n",
    "    return c=='('\n",
    "def isRightParenthesis(c):\n",
    "    return c==')'\n",
    "def isEmpty(stack):\n",
    "    return len(stack)==0\n",
    "def peek(stack):\n",
    "    return stack[-1]\n",
    "def hasLessOrEqualPriority(c1,c2):\n",
    "    try: return priority[c1]<=priority[c2]\n",
    "    except KeyError : return False"
   ]
  },
  {
   "cell_type": "code",
   "execution_count": 5,
   "metadata": {},
   "outputs": [],
   "source": [
    "def toPostfix(infix):\n",
    "    stack=[]\n",
    "    postfix=''\n",
    "    for c in infix:\n",
    "        if isOperand(c):\n",
    "            postfix+=c\n",
    "        else:\n",
    "            if isLeftParenthesis(c):\n",
    "                stack.append(c)\n",
    "            elif isRightParenthesis(c):\n",
    "                operator =stack.pop()\n",
    "                while (not isLeftParenthesis(operator)):\n",
    "                    postfix+=operator\n",
    "                    operator=stack.pop()\n",
    "                    \n",
    "            else:\n",
    "                while (not isEmpty(stack)) and hasLessOrEqualPriority(c,peek(stack)):\n",
    "                    postfix+=stack.pop()\n",
    "                stack.append(c)\n",
    "    while (not isEmpty(stack)):\n",
    "        postfix +=stack.pop()\n",
    "    return postfix"
   ]
  },
  {
   "cell_type": "code",
   "execution_count": 6,
   "metadata": {},
   "outputs": [],
   "source": [
    "def evaluatePostfix(exp,comb):\n",
    "    stack=[]\n",
    "    for i in exp:\n",
    "        if isOperand(i):\n",
    "            stack.append(comb[variable[i]])\n",
    "        elif i==\"~\":\n",
    "            val1=stack.pop()\n",
    "            stack.append(not val1)\n",
    "        else:\n",
    "            val1=stack.pop()\n",
    "            val2=stack.pop()\n",
    "            stack.append(_eval(i,val2,val1))\n",
    "    return stack.pop()"
   ]
  },
  {
   "cell_type": "code",
   "execution_count": 7,
   "metadata": {},
   "outputs": [
    {
     "name": "stdout",
     "output_type": "stream",
     "text": [
      "Enter rule : (Pv~QvR)^(~Q^P)^(Q)\n",
      "Enter the Query : R\n",
      "**********Truth Table Reference**********\n",
      "P     Q      R      KB    Alpha\n",
      "********************\n",
      "True True True False True\n",
      "----------\n",
      "True True False False False\n",
      "----------\n",
      "True False True False True\n",
      "----------\n",
      "True False False False False\n",
      "----------\n",
      "False True True False True\n",
      "----------\n",
      "False True False False False\n",
      "----------\n",
      "False False True False True\n",
      "----------\n",
      "False False False False False\n",
      "----------\n",
      "The Knowledgebase entails Query .\n"
     ]
    }
   ],
   "source": [
    "def _eval(i,val1,val2):\n",
    "    if i=='^': return val2 and val1 \n",
    "    return val2 or val1\n",
    "input_rules()\n",
    "ans=entailment()\n",
    "if ans: print(\"The Knowledgebase entails Query .\")\n",
    "else: print(\"The Knowledgebase doesn't entails Query.\")"
   ]
  },
  {
   "cell_type": "code",
   "execution_count": null,
   "metadata": {},
   "outputs": [],
   "source": []
  }
 ],
 "metadata": {
  "kernelspec": {
   "display_name": "Python 3",
   "language": "python",
   "name": "python3"
  },
  "language_info": {
   "codemirror_mode": {
    "name": "ipython",
    "version": 3
   },
   "file_extension": ".py",
   "mimetype": "text/x-python",
   "name": "python",
   "nbconvert_exporter": "python",
   "pygments_lexer": "ipython3",
   "version": "3.8.3"
  }
 },
 "nbformat": 4,
 "nbformat_minor": 4
}
