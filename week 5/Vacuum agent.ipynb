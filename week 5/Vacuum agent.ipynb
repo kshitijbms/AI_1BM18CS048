{
 "cells": [
  {
   "cell_type": "code",
   "execution_count": 1,
   "metadata": {},
   "outputs": [],
   "source": [
    "\n",
    "def clean(floor): \n",
    "    i, j, row, col = 0, 0, len(floor), len(floor[0])\n",
    "    for i in range(row):\n",
    "        if(i%2 == 0):\n",
    "            for j in range(col):\n",
    "                if(floor[i][j] == 1):\n",
    "                    print_F(floor, i, j)\n",
    "                    floor[i][j] = 0\n",
    "                print_F(floor, i, j)\n",
    "        else:\n",
    "            for j in range(col-1, -1, -1):\n",
    "                if(floor[i][j] == 1):\n",
    "                    print_F(floor, i, j)\n",
    "                    floor[i][j] = 0\n",
    "                print_F(floor, i, j)"
   ]
  },
  {
   "cell_type": "code",
   "execution_count": 2,
   "metadata": {},
   "outputs": [],
   "source": [
    "def print_F(floor, row, col): \n",
    "    \"\"\"A function to print the GRID , (row, col) represent the current vacuum cleaner position\"\"\" \n",
    "    print(\"The Floor matrix is as below:\")\n",
    "    for r in range(len(floor)):\n",
    "        for c in range(len(floor[r])):\n",
    "            if r == row and c == col:\n",
    "                print(f\" >{floor[r][c]}< \", end = '')\n",
    "            else:\n",
    "                print(f\"  {floor[r][c]}  \", end = '')\n",
    "        print()\n",
    "    print()"
   ]
  },
  {
   "cell_type": "code",
   "execution_count": 3,
   "metadata": {},
   "outputs": [],
   "source": [
    "\n",
    "def main():\n",
    "    floor = []\n",
    "    m = int(input(\"Enter the No. of Rows: \"))\n",
    "    n = int(input(\"Enter the No. of Columns: \"))\n",
    "    print(\"Enter clean status for each cell (1 - dirty, 0 - clean)\")\n",
    "    for i in range(m):\n",
    "        fi = list(map(int, input().split(\" \")))\n",
    "        floor.append(fi)\n",
    "    print()\n",
    "    clean(floor)"
   ]
  },
  {
   "cell_type": "code",
   "execution_count": 4,
   "metadata": {},
   "outputs": [
    {
     "name": "stdout",
     "output_type": "stream",
     "text": [
      "Enter the No. of Rows: 2\n",
      "Enter the No. of Columns: 4\n",
      "Enter clean status for each cell (1 - dirty, 0 - clean)\n",
      "1 0 0 0\n",
      "0 1 0 1\n",
      "\n",
      "The Floor matrix is as below:\n",
      " >1<   0    0    0  \n",
      "  0    1    0    1  \n",
      "\n",
      "The Floor matrix is as below:\n",
      " >0<   0    0    0  \n",
      "  0    1    0    1  \n",
      "\n",
      "The Floor matrix is as below:\n",
      "  0   >0<   0    0  \n",
      "  0    1    0    1  \n",
      "\n",
      "The Floor matrix is as below:\n",
      "  0    0   >0<   0  \n",
      "  0    1    0    1  \n",
      "\n",
      "The Floor matrix is as below:\n",
      "  0    0    0   >0< \n",
      "  0    1    0    1  \n",
      "\n",
      "The Floor matrix is as below:\n",
      "  0    0    0    0  \n",
      "  0    1    0   >1< \n",
      "\n",
      "The Floor matrix is as below:\n",
      "  0    0    0    0  \n",
      "  0    1    0   >0< \n",
      "\n",
      "The Floor matrix is as below:\n",
      "  0    0    0    0  \n",
      "  0    1   >0<   0  \n",
      "\n",
      "The Floor matrix is as below:\n",
      "  0    0    0    0  \n",
      "  0   >1<   0    0  \n",
      "\n",
      "The Floor matrix is as below:\n",
      "  0    0    0    0  \n",
      "  0   >0<   0    0  \n",
      "\n",
      "The Floor matrix is as below:\n",
      "  0    0    0    0  \n",
      " >0<   0    0    0  \n",
      "\n"
     ]
    }
   ],
   "source": [
    "main()"
   ]
  },
  {
   "cell_type": "code",
   "execution_count": null,
   "metadata": {},
   "outputs": [],
   "source": []
  }
 ],
 "metadata": {
  "kernelspec": {
   "display_name": "Python 3",
   "language": "python",
   "name": "python3"
  },
  "language_info": {
   "codemirror_mode": {
    "name": "ipython",
    "version": 3
   },
   "file_extension": ".py",
   "mimetype": "text/x-python",
   "name": "python",
   "nbconvert_exporter": "python",
   "pygments_lexer": "ipython3",
   "version": "3.8.3"
  }
 },
 "nbformat": 4,
 "nbformat_minor": 4
}
