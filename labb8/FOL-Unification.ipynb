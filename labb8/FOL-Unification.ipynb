{
 "cells": [
  {
   "cell_type": "markdown",
   "metadata": {},
   "source": [
    "# First Order Logic\n",
    "# Unification"
   ]
  },
  {
   "cell_type": "markdown",
   "metadata": {},
   "source": [
    "Unification is the Process of making two different logical atomic expresssions identical by finding a substitution.\n",
    "\n",
    "UNIFY(p,q)=theta  SUBST(theta,p)=SUST(thet,q)"
   ]
  },
  {
   "cell_type": "code",
   "execution_count": 1,
   "metadata": {},
   "outputs": [],
   "source": [
    "import re\n",
    "\n",
    "def getAttributes(expression):\n",
    "    expression = expression.split(\"(\")[1:]\n",
    "    expression = \"(\".join(expression)\n",
    "    expression = expression[:-1]\n",
    "    expression = re.split(\"(?<!\\(.),(?!.\\))\", expression)\n",
    "    return expression\n",
    "    \n"
   ]
  },
  {
   "cell_type": "code",
   "execution_count": 2,
   "metadata": {},
   "outputs": [],
   "source": [
    "def fetchInitialPredicate(expression):\n",
    "    return expression.split(\"(\")[0]\n",
    "\n",
    "\n",
    "def isConstant(char):\n",
    "    return char.isupper() and len(char) == 1\n",
    "\n",
    "def isVariable(char):\n",
    "    return char.islower() and len(char) == 1\n",
    "\n",
    "def replaceAttributes(exp, old, new):\n",
    "    attributes = getAttributes(exp)\n",
    "    \n",
    "    for index, val in enumerate(attributes):\n",
    "        if val == old:\n",
    "            attributes[index] = new\n",
    "    predicate = fetchInitialPredicate(exp)\n",
    "    return predicate + \"(\" + \",\".join(attributes) + \")\"\n",
    "\n"
   ]
  },
  {
   "cell_type": "code",
   "execution_count": 3,
   "metadata": {},
   "outputs": [],
   "source": [
    "def apply(exp, substitutions):\n",
    "    for substitution in substitutions:\n",
    "        new, old = substitution[0],substitution[2]  # cz substitution is a tuple of 2 values (new, old)\n",
    "        exp = replaceAttributes(exp, old, new)\n",
    "    return exp\n",
    "def checkOccurs(var, exp):\n",
    "    if exp.find(var) == -1:\n",
    "        return False\n",
    "    return True\n",
    "\n",
    "\n",
    "def fetchFirstPart(expression):\n",
    "    attributes = getAttributes(expression)\n",
    "    return attributes[0]\n",
    "\n",
    "\n",
    "def fetchRemainingPart(expression):\n",
    "    predicate = fetchInitialPredicate(expression)\n",
    "    attributes = getAttributes(expression)\n",
    "    newExpression = predicate + \"(\" + \",\".join(attributes[1:]) + \")\"\n",
    "    return newExpression\n"
   ]
  },
  {
   "cell_type": "code",
   "execution_count": 4,
   "metadata": {},
   "outputs": [],
   "source": [
    "def UNIFY(exp1, exp2):\n",
    "    if exp1 == exp2:\n",
    "        return []\n",
    "\n",
    "    if isConstant(exp1) and isConstant(exp2):\n",
    "        if exp1 != exp2:\n",
    "            return False\n",
    "\n",
    "    if isConstant(exp1):\n",
    "        return [(exp1,'|', exp2)]\n",
    "\n",
    "    if isConstant(exp2):\n",
    "        return [(exp2,'|', exp1)]\n",
    "\n",
    "    if isVariable(exp1):\n",
    "        if checkOccurs(exp1, exp2):\n",
    "            \n",
    "            return False\n",
    "        else:\n",
    "            \n",
    "            return [(exp2,'|', exp1)]\n",
    "\n",
    "    if isVariable(exp2):\n",
    "        if checkOccurs(exp2, exp1):\n",
    "            return False\n",
    "        else:\n",
    "            return [(exp1,'|', exp2)]\n",
    "\n",
    "    if fetchInitialPredicate(exp1) != fetchInitialPredicate(exp2):\n",
    "        print(\"Predicates do not match. Cannot be unified\")\n",
    "        return False\n",
    "\n",
    "    attributeCount1 = len(getAttributes(exp1))\n",
    "\n",
    "    attributeCount2 = len(getAttributes(exp2))\n",
    "\n",
    "    if attributeCount1 != attributeCount2:\n",
    "        return False\n",
    "\n",
    "    head1 = fetchFirstPart(exp1)\n",
    "    #print(\"Head1 \",head1)\n",
    "    head2 = fetchFirstPart(exp2)\n",
    "    #print(\"Head2 \",head2)\n",
    "    initialSubstitution = UNIFY(head1, head2)\n",
    "    #print(\"initial \",initialSubstitution)\n",
    "    \n",
    "    if not initialSubstitution:\n",
    "        return False\n",
    "    if attributeCount1 == 1:\n",
    "        return initialSubstitution\n",
    "\n",
    "    tail1 = fetchRemainingPart(exp1)\n",
    "    #print(\"tail1 \",tail1)\n",
    "    tail2 = fetchRemainingPart(exp2)\n",
    "    #print(\"tail2 \",tail2)\n",
    "\n",
    "    if initialSubstitution != []:\n",
    "        tail1 = apply(tail1, initialSubstitution)\n",
    "        #print(\"tail11 \",tail1)\n",
    "        tail2 = apply(tail2, initialSubstitution)\n",
    "        #print(\"tail21 \",tail2)\n",
    "\n",
    "    remainingSubstitution = UNIFY(tail1, tail2)\n",
    "    if not remainingSubstitution:\n",
    "        return False\n",
    "    \n",
    "    initialSubstitution.extend(remainingSubstitution)\n",
    "    return initialSubstitution\n"
   ]
  },
  {
   "cell_type": "code",
   "execution_count": 5,
   "metadata": {},
   "outputs": [
    {
     "name": "stdout",
     "output_type": "stream",
     "text": [
      "Substitutions:\n",
      "[('John', '|', 'y')]\n"
     ]
    }
   ],
   "source": [
    "#test case 1\n",
    "exp1 = \"knows(y)\"\n",
    "exp2 = \"knows(John)\"\n",
    "substitutions = UNIFY(exp1, exp2)\n",
    "print(\"Substitutions:\")\n",
    "print(substitutions)"
   ]
  },
  {
   "cell_type": "code",
   "execution_count": 6,
   "metadata": {},
   "outputs": [
    {
     "name": "stdout",
     "output_type": "stream",
     "text": [
      "Substitutions:\n",
      "[('J', '|', 'f(x)'), ('J', '|', 'y')]\n"
     ]
    }
   ],
   "source": [
    "#test case 2\n",
    "exp1 = \"knows(f(x),y)\"\n",
    "exp2 = \"knows(J,f(x))\"\n",
    "substitutions = UNIFY(exp1, exp2)\n",
    "print(\"Substitutions:\")\n",
    "print(substitutions)"
   ]
  },
  {
   "cell_type": "code",
   "execution_count": 7,
   "metadata": {},
   "outputs": [
    {
     "name": "stdout",
     "output_type": "stream",
     "text": [
      "Enter Expression 1 :learns(Arjun,AI)\n",
      "Enter Expression 2 :learns(x,y)\n",
      "Substitutions:\n",
      "[('Arjun', '|', 'x'), ('AI', '|', 'y')]\n"
     ]
    }
   ],
   "source": [
    "exp1=input(\"Enter Expression 1 :\")\n",
    "exp2=input(\"Enter Expression 2 :\")\n",
    "substitutions = UNIFY(exp1, exp2)\n",
    "print(\"Substitutions:\")\n",
    "print(substitutions)"
   ]
  },
  {
   "cell_type": "code",
   "execution_count": 8,
   "metadata": {},
   "outputs": [
    {
     "name": "stdout",
     "output_type": "stream",
     "text": [
      "Enter Expression 1 :learns(A,b)\n",
      "Enter Expression 2 :learns(x)\n",
      "Substitutions:\n",
      "False\n"
     ]
    }
   ],
   "source": [
    "exp1=input(\"Enter Expression 1 :\")\n",
    "exp2=input(\"Enter Expression 2 :\")\n",
    "substitutions = UNIFY(exp1, exp2)\n",
    "print(\"Substitutions:\")\n",
    "print(substitutions)\n"
   ]
  },
  {
   "cell_type": "code",
   "execution_count": 10,
   "metadata": {},
   "outputs": [
    {
     "name": "stdout",
     "output_type": "stream",
     "text": [
      "Enter Expression 1 :Loves(x,Juliet)\n",
      "Enter Expression 2 :Loves(Romeo,y)\n",
      "Substitutions:\n",
      "[('Romeo', '|', 'x'), ('Juliet', '|', 'y')]\n"
     ]
    }
   ],
   "source": [
    "exp1=input(\"Enter Expression 1 :\")\n",
    "exp2=input(\"Enter Expression 2 :\")\n",
    "substitutions = UNIFY(exp1, exp2)\n",
    "print(\"Substitutions:\")\n",
    "print(substitutions)\n"
   ]
  },
  {
   "cell_type": "code",
   "execution_count": null,
   "metadata": {},
   "outputs": [],
   "source": []
  }
 ],
 "metadata": {
  "kernelspec": {
   "display_name": "Python 3",
   "language": "python",
   "name": "python3"
  },
  "language_info": {
   "codemirror_mode": {
    "name": "ipython",
    "version": 3
   },
   "file_extension": ".py",
   "mimetype": "text/x-python",
   "name": "python",
   "nbconvert_exporter": "python",
   "pygments_lexer": "ipython3",
   "version": "3.8.3"
  }
 },
 "nbformat": 4,
 "nbformat_minor": 4
}
